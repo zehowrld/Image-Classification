{
  "cells": [
    {
      "cell_type": "markdown",
      "metadata": {
        "id": "YHK6DyunSbs4"
      },
      "source": [
        "# Cat vs. Dog Image Classification\n",
        "## Exercise 3: Feature Extraction and Fine-Tuning\n",
        "**_Estimated completion time: 30 minutes_**\n",
        "\n",
        "In Exercise 1, we built a convnet from scratch, and were able to achieve an accuracy of about 70%. With the addition of data augmentation and dropout in Exercise 2, we were able to increase accuracy to about 80%. That seems decent, but 20% is still too high of an error rate. Maybe we just don't have enough training data available to properly solve the problem. What other approaches can we try?\n",
        "\n",
        "In this exercise, we'll look at two techniques for repurposing feature data generated from image models that have already been trained on large sets of data, **feature extraction** and **fine tuning**, and use them to improve the accuracy of our cat vs. dog classification model."
      ]
    },
    {
      "cell_type": "markdown",
      "metadata": {
        "id": "dI5rmt4UBwXs"
      },
      "source": [
        "## Feature Extraction Using a Pretrained Model\n",
        "\n",
        "One thing that is commonly done in computer vision is to take a model trained on a very large dataset, run it on your own, smaller dataset, and extract the intermediate representations (features) that the model generates. These representations are frequently informative for your own computer vision task, even though the task may be quite different from the problem that the original model was trained on. This versatility and repurposability of convnets is one of the most interesting aspects of deep learning.\n",
        "\n",
        "In our case, we will use the [Inception V3 model](https://arxiv.org/abs/1512.00567) developed at Google, and pre-trained on [ImageNet](http://image-net.org/), a large dataset of web images (1.4M images and 1000 classes). This is a powerful model; let's see what the features that it has learned can do for our cat vs. dog problem.\n",
        "\n",
        "First, we need to pick which intermediate layer of Inception V3 we will use for feature extraction. A common practice is to use the output of the very last layer before the `Flatten` operation, the so-called \"bottleneck layer.\" The reasoning here is that the following fully connected layers will be too specialized for the task the network was trained on, and thus the features learned by these layers won't be very useful for a new task. The bottleneck features, however, retain much generality.\n",
        "\n",
        "Let's instantiate an Inception V3 model preloaded with weights trained on ImageNet:\n"
      ]
    },
    {
      "cell_type": "code",
      "execution_count": 1,
      "metadata": {
        "id": "1xJZ5glPPCRz"
      },
      "outputs": [],
      "source": [
        "import os\n",
        "\n",
        "from tensorflow.keras import layers\n",
        "from tensorflow.keras import Model"
      ]
    },
    {
      "cell_type": "markdown",
      "metadata": {
        "id": "VaXLMtYiF0t9"
      },
      "source": [
        "Now let's download the weights:"
      ]
    },
    {
      "cell_type": "code",
      "execution_count": 2,
      "metadata": {
        "colab": {
          "base_uri": "https://localhost:8080/"
        },
        "id": "KMrbllgAFipZ",
        "outputId": "09ea6343-b5f5-4a8b-9135-bf6880789c39"
      },
      "outputs": [
        {
          "name": "stdout",
          "output_type": "stream",
          "text": [
            "Downloading inception_v3_weights...\n"
          ]
        }
      ],
      "source": [
        "import requests\n",
        "\n",
        "url = \"https://storage.googleapis.com/mledu-datasets/inception_v3_weights_tf_dim_ordering_tf_kernels_notop.h5\"\n",
        "destination = \"/tmp/inception_v3_weights_tf_dim_ordering_tf_kernels_notop.h5\"\n",
        "\n",
        "# Download the file\n",
        "print(\"Downloading inception_v3_weights...\")\n",
        "response = requests.get(url, stream=True)\n",
        "with open(destination, 'wb') as file:\n",
        "    for chunk in response.iter_content(chunk_size=1024):\n",
        "        if chunk:\n",
        "            file.write(chunk)\n"
      ]
    },
    {
      "cell_type": "code",
      "execution_count": 3,
      "metadata": {
        "id": "UnRiGBfOF8rq"
      },
      "outputs": [],
      "source": [
        "from tensorflow.keras.applications.inception_v3 import InceptionV3\n",
        "\n",
        "local_weights_file = '/tmp/inception_v3_weights_tf_dim_ordering_tf_kernels_notop.h5'\n",
        "pre_trained_model = InceptionV3(\n",
        "    input_shape=(150, 150, 3), include_top=False, weights=None)\n",
        "pre_trained_model.load_weights(local_weights_file)"
      ]
    },
    {
      "cell_type": "markdown",
      "metadata": {
        "id": "IcYZPBS3bTAj"
      },
      "source": [
        "By specifying the `include_top=False` argument, we load a network that doesn't include the classification layers at the top—ideal for feature extraction."
      ]
    },
    {
      "cell_type": "markdown",
      "metadata": {
        "id": "CFxrqTuJee5m"
      },
      "source": [
        "Let's make the model non-trainable, since we will only use it for feature extraction; we won't update the weights of the pretrained model during training."
      ]
    },
    {
      "cell_type": "code",
      "execution_count": 4,
      "metadata": {
        "id": "a38rB3lyedcB"
      },
      "outputs": [],
      "source": [
        "for layer in pre_trained_model.layers:\n",
        "  layer.trainable = False"
      ]
    },
    {
      "cell_type": "markdown",
      "metadata": {
        "id": "XGBGDiOAepnO"
      },
      "source": [
        "The layer we will use for feature extraction in Inception v3 is called `mixed7`. It is not the bottleneck of the network, but we are using it to keep a sufficiently large feature map (7x7 in this case). (Using the bottleneck layer would have resulting in a 3x3 feature map, which is a bit small.) Let's get the output from `mixed7`:"
      ]
    },
    {
      "cell_type": "code",
      "execution_count": 5,
      "metadata": {
        "colab": {
          "base_uri": "https://localhost:8080/"
        },
        "id": "Cj4rXshqbQlS",
        "outputId": "12582b47-881f-47af-d1ab-0f159a54058b"
      },
      "outputs": [
        {
          "name": "stdout",
          "output_type": "stream",
          "text": [
            "last layer output shape: (None, 7, 7, 768)\n"
          ]
        }
      ],
      "source": [
        "last_layer = pre_trained_model.get_layer('mixed7')\n",
        "print('last layer output shape:', last_layer.output_shape)\n",
        "last_output = last_layer.output"
      ]
    },
    {
      "cell_type": "markdown",
      "metadata": {
        "id": "XxHk6XQLeUWh"
      },
      "source": [
        "Now let's stick a fully connected classifier on top of `last_output`:"
      ]
    },
    {
      "cell_type": "code",
      "execution_count": 6,
      "metadata": {
        "id": "BMXb913pbvFg"
      },
      "outputs": [],
      "source": [
        "from tensorflow.keras.optimizers import RMSprop\n",
        "\n",
        "# Flatten the output layer to 1 dimension\n",
        "x = layers.Flatten()(last_output)\n",
        "# Add a fully connected layer with 1,024 hidden units and ReLU activation\n",
        "x = layers.Dense(1024, activation='relu')(x)\n",
        "# Add a dropout rate of 0.2\n",
        "x = layers.Dropout(0.2)(x)\n",
        "# Add a final sigmoid layer for classification\n",
        "x = layers.Dense(1, activation='sigmoid')(x)\n",
        "\n",
        "# Configure and compile the model\n",
        "model = Model(pre_trained_model.input, x)\n",
        "model.compile(loss='binary_crossentropy',\n",
        "              optimizer=RMSprop(learning_rate=0.0001),\n",
        "              metrics=['acc'])"
      ]
    },
    {
      "cell_type": "markdown",
      "metadata": {
        "id": "_6ECjowwV5Ug"
      },
      "source": [
        "For examples and data preprocessing, let's use the same files and `train_generator` as we did in Exercise 2."
      ]
    },
    {
      "cell_type": "markdown",
      "metadata": {
        "id": "Cl-IqOTjZVw_"
      },
      "source": [
        "**NOTE:** The 2,000 images used in this exercise are excerpted from the [\"Dogs vs. Cats\" dataset](https://www.kaggle.com/c/dogs-vs-cats/data) available on Kaggle, which contains 25,000 images. Here, we use a subset of the full dataset to decrease training time for educational purposes."
      ]
    },
    {
      "cell_type": "code",
      "execution_count": 7,
      "metadata": {
        "colab": {
          "base_uri": "https://localhost:8080/"
        },
        "id": "O4s8HckqGlnb",
        "outputId": "8fecb757-e55e-4237-f7e3-136ef3ff7cf7"
      },
      "outputs": [
        {
          "name": "stdout",
          "output_type": "stream",
          "text": [
            "Downloading cats_and_dogs_filtered.zip...\n"
          ]
        }
      ],
      "source": [
        "def download_file(url, destination):\n",
        "    response = requests.get(url, stream=True)\n",
        "    with open(destination, 'wb') as file:\n",
        "        for chunk in response.iter_content(chunk_size=1024):\n",
        "            if chunk:\n",
        "                file.write(chunk)\n",
        "\n",
        "def main():\n",
        "    # Define the URL and destination path\n",
        "    url = 'https://storage.googleapis.com/mledu-datasets/cats_and_dogs_filtered.zip'\n",
        "    destination = 'cats_and_dogs_filtered.zip'\n",
        "\n",
        "    # Download the file\n",
        "    print(\"Downloading cats_and_dogs_filtered.zip...\")\n",
        "    download_file(url, destination)\n",
        "\n",
        "    # Extract the zip file\n",
        "    import zipfile\n",
        "    local_zip = destination\n",
        "    zip_ref = zipfile.ZipFile(local_zip, 'r')\n",
        "    zip_ref.extractall('/tmp')\n",
        "    zip_ref.close()\n",
        "\n",
        "if __name__ == \"__main__\":\n",
        "    main()\n"
      ]
    },
    {
      "cell_type": "code",
      "execution_count": 8,
      "metadata": {
        "colab": {
          "base_uri": "https://localhost:8080/"
        },
        "id": "Fl9XXARuV_eg",
        "outputId": "b9563204-d716-4cfb-f362-6cd47cfc84fa"
      },
      "outputs": [
        {
          "name": "stdout",
          "output_type": "stream",
          "text": [
            "Found 2000 images belonging to 2 classes.\n",
            "Found 1000 images belonging to 2 classes.\n"
          ]
        }
      ],
      "source": [
        "from tensorflow.keras.preprocessing.image import ImageDataGenerator\n",
        "\n",
        "# Define our example directories and files\n",
        "base_dir = '/tmp/cats_and_dogs_filtered'\n",
        "train_dir = os.path.join(base_dir, 'train')\n",
        "validation_dir = os.path.join(base_dir, 'validation')\n",
        "\n",
        "# Directory with our training cat pictures\n",
        "train_cats_dir = os.path.join(train_dir, 'cats')\n",
        "\n",
        "# Directory with our training dog pictures\n",
        "train_dogs_dir = os.path.join(train_dir, 'dogs')\n",
        "\n",
        "# Directory with our validation cat pictures\n",
        "validation_cats_dir = os.path.join(validation_dir, 'cats')\n",
        "\n",
        "# Directory with our validation dog pictures\n",
        "validation_dogs_dir = os.path.join(validation_dir, 'dogs')\n",
        "\n",
        "train_cat_fnames = os.listdir(train_cats_dir)\n",
        "train_dog_fnames = os.listdir(train_dogs_dir)\n",
        "\n",
        "# Add our data-augmentation parameters to ImageDataGenerator\n",
        "train_datagen = ImageDataGenerator(\n",
        "    rescale=1./255,\n",
        "    rotation_range=40,\n",
        "    width_shift_range=0.2,\n",
        "    height_shift_range=0.2,\n",
        "    shear_range=0.2,\n",
        "    zoom_range=0.2,\n",
        "    horizontal_flip=True)\n",
        "\n",
        "# Note that the validation data should not be augmented!\n",
        "val_datagen = ImageDataGenerator(rescale=1./255)\n",
        "\n",
        "train_generator = train_datagen.flow_from_directory(\n",
        "        train_dir, # This is the source directory for training images\n",
        "        target_size=(150, 150),  # All images will be resized to 150x150\n",
        "        batch_size=20,\n",
        "        # Since we use binary_crossentropy loss, we need binary labels\n",
        "        class_mode='binary')\n",
        "\n",
        "# Flow validation images in batches of 20 using val_datagen generator\n",
        "validation_generator = val_datagen.flow_from_directory(\n",
        "        validation_dir,\n",
        "        target_size=(150, 150),\n",
        "        batch_size=20,\n",
        "        class_mode='binary')"
      ]
    },
    {
      "cell_type": "markdown",
      "metadata": {
        "id": "qEC1AL7iVRLz"
      },
      "source": [
        "Finally, let's train the model using the features we extracted. We'll train on all 2000 images available, for 2 epochs, and validate on all 1,000 validation images."
      ]
    },
    {
      "cell_type": "code",
      "execution_count": 9,
      "metadata": {
        "colab": {
          "base_uri": "https://localhost:8080/"
        },
        "id": "Blhq2MAUeyGA",
        "outputId": "e3f5e841-4343-4590-b26f-e548eb80aade"
      },
      "outputs": [
        {
          "name": "stdout",
          "output_type": "stream",
          "text": [
            "Epoch 1/2\n",
            "100/100 - 106s - loss: 0.3298 - acc: 0.8630 - val_loss: 0.1048 - val_acc: 0.9620 - 106s/epoch - 1s/step\n",
            "Epoch 2/2\n",
            "100/100 - 139s - loss: 0.2189 - acc: 0.9065 - val_loss: 0.1851 - val_acc: 0.9270 - 139s/epoch - 1s/step\n"
          ]
        }
      ],
      "source": [
        "history = model.fit(\n",
        "      train_generator,\n",
        "      steps_per_epoch=100,\n",
        "      epochs=2,\n",
        "      validation_data=validation_generator,\n",
        "      validation_steps=50,\n",
        "      verbose=2)"
      ]
    },
    {
      "cell_type": "markdown",
      "metadata": {
        "id": "lRjyAkE62aOG"
      },
      "source": [
        "You can see that we reach a validation accuracy of 88–90% very quickly. This is much better than the small model we trained from scratch."
      ]
    },
    {
      "cell_type": "markdown",
      "metadata": {
        "id": "tt15y6IS2pBo"
      },
      "source": [
        "## Further Improving Accuracy with Fine-Tuning\n",
        "\n",
        "In our feature-extraction experiment, we only tried adding two classification layers on top of an Inception V3 layer. The weights of the pretrained network were not updated during training. One way to increase performance even further is to \"fine-tune\" the weights of the top layers of the pretrained model alongside the training of the top-level classifier. A couple of important notes on fine-tuning:\n",
        "\n",
        "- **Fine-tuning should only be attempted *after* you have trained the top-level classifier with the pretrained model set to non-trainable**. If you add a randomly initialized classifier on top of a pretrained model and attempt to train all layers jointly, the magnitude of the gradient updates will be too large (due to the random weights from the classifier), and your pretrained model will just forget everything it has learned.\n",
        "- Additionally, we **fine-tune only the *top layers* of the pre-trained model** rather than all layers of the pretrained model because, in a convnet, the higher up a layer is, the more specialized it is. The first few layers in a convnet learn very simple and generic features, which generalize to almost all types of images. But as you go higher up, the features are increasingly specific to the dataset that the model is trained on. The goal of fine-tuning is to adapt these specialized features to work with the new dataset.\n",
        "\n",
        "All we need to do to implement fine-tuning is to set the top layers of Inception V3 to be trainable, recompile the model (necessary for these changes to take effect), and resume training. Let's unfreeze all layers belonging to the `mixed7` module—i.e., all layers found after `mixed6`—and recompile the model:"
      ]
    },
    {
      "cell_type": "code",
      "execution_count": 10,
      "metadata": {
        "id": "_l_J4S0Z2rgg"
      },
      "outputs": [],
      "source": [
        "from tensorflow.keras.optimizers import SGD\n",
        "\n",
        "unfreeze = False\n",
        "\n",
        "# Unfreeze all models after \"mixed6\"\n",
        "for layer in pre_trained_model.layers:\n",
        "  if unfreeze:\n",
        "    layer.trainable = True\n",
        "  if layer.name == 'mixed6':\n",
        "    unfreeze = True\n",
        "\n",
        "# As an optimizer, here we will use SGD\n",
        "# with a very low learning rate (0.00001)\n",
        "model.compile(loss='binary_crossentropy',\n",
        "              optimizer=SGD(\n",
        "                  learning_rate=0.00001,\n",
        "                  momentum=0.9),\n",
        "              metrics=['acc'])"
      ]
    },
    {
      "cell_type": "markdown",
      "metadata": {
        "id": "zE37ARlqY9da"
      },
      "source": [
        "Now let's retrain the model. We'll train on all 2000 images available, for 50 epochs, and validate on all 1,000 validation images. (This may take 15-20 minutes to run.)"
      ]
    },
    {
      "cell_type": "code",
      "execution_count": 12,
      "metadata": {
        "colab": {
          "base_uri": "https://localhost:8080/"
        },
        "id": "o_GgDGG4Y_hJ",
        "outputId": "5b70d90d-c498-4d18-b148-b5edcbe43ab3"
      },
      "outputs": [
        {
          "name": "stdout",
          "output_type": "stream",
          "text": [
            "Epoch 1/50\n",
            "100/100 - 102s - loss: 0.2237 - acc: 0.9140 - val_loss: 0.1253 - val_acc: 0.9550 - 102s/epoch - 1s/step\n",
            "Epoch 2/50\n",
            "100/100 - 86s - loss: 0.2142 - acc: 0.9195 - val_loss: 0.1242 - val_acc: 0.9550 - 86s/epoch - 858ms/step\n",
            "Epoch 3/50\n",
            "100/100 - 85s - loss: 0.2193 - acc: 0.9155 - val_loss: 0.1232 - val_acc: 0.9550 - 85s/epoch - 848ms/step\n",
            "Epoch 4/50\n",
            "100/100 - 86s - loss: 0.2238 - acc: 0.9160 - val_loss: 0.1221 - val_acc: 0.9560 - 86s/epoch - 858ms/step\n",
            "Epoch 5/50\n",
            "100/100 - 145s - loss: 0.2151 - acc: 0.9235 - val_loss: 0.1224 - val_acc: 0.9550 - 145s/epoch - 1s/step\n",
            "Epoch 6/50\n",
            "100/100 - 133s - loss: 0.2215 - acc: 0.9245 - val_loss: 0.1219 - val_acc: 0.9560 - 133s/epoch - 1s/step\n",
            "Epoch 7/50\n",
            "100/100 - 86s - loss: 0.2186 - acc: 0.9125 - val_loss: 0.1204 - val_acc: 0.9560 - 86s/epoch - 863ms/step\n",
            "Epoch 8/50\n",
            "100/100 - 88s - loss: 0.2209 - acc: 0.9090 - val_loss: 0.1197 - val_acc: 0.9560 - 88s/epoch - 876ms/step\n",
            "Epoch 9/50\n",
            "100/100 - 88s - loss: 0.2048 - acc: 0.9240 - val_loss: 0.1193 - val_acc: 0.9560 - 88s/epoch - 878ms/step\n",
            "Epoch 10/50\n",
            "100/100 - 89s - loss: 0.2267 - acc: 0.9105 - val_loss: 0.1192 - val_acc: 0.9570 - 89s/epoch - 888ms/step\n",
            "Epoch 11/50\n",
            "100/100 - 86s - loss: 0.2178 - acc: 0.9100 - val_loss: 0.1186 - val_acc: 0.9570 - 86s/epoch - 862ms/step\n",
            "Epoch 12/50\n",
            "100/100 - 84s - loss: 0.2134 - acc: 0.9145 - val_loss: 0.1176 - val_acc: 0.9560 - 84s/epoch - 839ms/step\n",
            "Epoch 13/50\n",
            "100/100 - 84s - loss: 0.2119 - acc: 0.9155 - val_loss: 0.1173 - val_acc: 0.9560 - 84s/epoch - 842ms/step\n",
            "Epoch 14/50\n",
            "100/100 - 119s - loss: 0.2067 - acc: 0.9185 - val_loss: 0.1167 - val_acc: 0.9570 - 119s/epoch - 1s/step\n",
            "Epoch 15/50\n",
            "100/100 - 83s - loss: 0.2101 - acc: 0.9155 - val_loss: 0.1162 - val_acc: 0.9570 - 83s/epoch - 834ms/step\n",
            "Epoch 16/50\n",
            "100/100 - 84s - loss: 0.2076 - acc: 0.9180 - val_loss: 0.1162 - val_acc: 0.9570 - 84s/epoch - 840ms/step\n",
            "Epoch 17/50\n",
            "100/100 - 85s - loss: 0.2037 - acc: 0.9200 - val_loss: 0.1159 - val_acc: 0.9570 - 85s/epoch - 848ms/step\n",
            "Epoch 18/50\n",
            "100/100 - 84s - loss: 0.2110 - acc: 0.9200 - val_loss: 0.1151 - val_acc: 0.9570 - 84s/epoch - 837ms/step\n",
            "Epoch 19/50\n",
            "100/100 - 85s - loss: 0.1956 - acc: 0.9300 - val_loss: 0.1138 - val_acc: 0.9570 - 85s/epoch - 852ms/step\n",
            "Epoch 20/50\n",
            "100/100 - 83s - loss: 0.1979 - acc: 0.9235 - val_loss: 0.1136 - val_acc: 0.9570 - 83s/epoch - 827ms/step\n",
            "Epoch 21/50\n",
            "100/100 - 82s - loss: 0.2104 - acc: 0.9190 - val_loss: 0.1141 - val_acc: 0.9570 - 82s/epoch - 816ms/step\n",
            "Epoch 22/50\n",
            "100/100 - 81s - loss: 0.2124 - acc: 0.9215 - val_loss: 0.1129 - val_acc: 0.9580 - 81s/epoch - 809ms/step\n",
            "Epoch 23/50\n",
            "100/100 - 80s - loss: 0.2106 - acc: 0.9215 - val_loss: 0.1126 - val_acc: 0.9570 - 80s/epoch - 803ms/step\n",
            "Epoch 24/50\n",
            "100/100 - 81s - loss: 0.2105 - acc: 0.9150 - val_loss: 0.1125 - val_acc: 0.9580 - 81s/epoch - 807ms/step\n",
            "Epoch 25/50\n",
            "100/100 - 82s - loss: 0.2028 - acc: 0.9210 - val_loss: 0.1120 - val_acc: 0.9580 - 82s/epoch - 817ms/step\n",
            "Epoch 26/50\n",
            "100/100 - 83s - loss: 0.2044 - acc: 0.9205 - val_loss: 0.1117 - val_acc: 0.9580 - 83s/epoch - 833ms/step\n",
            "Epoch 27/50\n",
            "100/100 - 86s - loss: 0.2064 - acc: 0.9130 - val_loss: 0.1114 - val_acc: 0.9580 - 86s/epoch - 860ms/step\n",
            "Epoch 28/50\n",
            "100/100 - 86s - loss: 0.2030 - acc: 0.9200 - val_loss: 0.1116 - val_acc: 0.9580 - 86s/epoch - 857ms/step\n",
            "Epoch 29/50\n",
            "100/100 - 86s - loss: 0.2118 - acc: 0.9150 - val_loss: 0.1111 - val_acc: 0.9570 - 86s/epoch - 856ms/step\n",
            "Epoch 30/50\n",
            "100/100 - 86s - loss: 0.1880 - acc: 0.9295 - val_loss: 0.1097 - val_acc: 0.9580 - 86s/epoch - 857ms/step\n",
            "Epoch 31/50\n",
            "100/100 - 85s - loss: 0.2082 - acc: 0.9130 - val_loss: 0.1100 - val_acc: 0.9570 - 85s/epoch - 846ms/step\n",
            "Epoch 32/50\n",
            "100/100 - 84s - loss: 0.2100 - acc: 0.9045 - val_loss: 0.1094 - val_acc: 0.9580 - 84s/epoch - 845ms/step\n",
            "Epoch 33/50\n",
            "100/100 - 85s - loss: 0.1870 - acc: 0.9300 - val_loss: 0.1083 - val_acc: 0.9580 - 85s/epoch - 850ms/step\n",
            "Epoch 34/50\n",
            "100/100 - 86s - loss: 0.1877 - acc: 0.9250 - val_loss: 0.1088 - val_acc: 0.9570 - 86s/epoch - 858ms/step\n",
            "Epoch 35/50\n",
            "100/100 - 87s - loss: 0.2028 - acc: 0.9165 - val_loss: 0.1082 - val_acc: 0.9580 - 87s/epoch - 868ms/step\n",
            "Epoch 36/50\n",
            "100/100 - 83s - loss: 0.1918 - acc: 0.9260 - val_loss: 0.1086 - val_acc: 0.9570 - 83s/epoch - 826ms/step\n",
            "Epoch 37/50\n",
            "100/100 - 91s - loss: 0.1986 - acc: 0.9280 - val_loss: 0.1078 - val_acc: 0.9580 - 91s/epoch - 915ms/step\n",
            "Epoch 38/50\n",
            "100/100 - 81s - loss: 0.1909 - acc: 0.9215 - val_loss: 0.1081 - val_acc: 0.9580 - 81s/epoch - 809ms/step\n",
            "Epoch 39/50\n",
            "100/100 - 81s - loss: 0.1961 - acc: 0.9240 - val_loss: 0.1076 - val_acc: 0.9580 - 81s/epoch - 809ms/step\n",
            "Epoch 40/50\n",
            "100/100 - 81s - loss: 0.2038 - acc: 0.9130 - val_loss: 0.1073 - val_acc: 0.9580 - 81s/epoch - 805ms/step\n",
            "Epoch 41/50\n",
            "100/100 - 82s - loss: 0.1920 - acc: 0.9280 - val_loss: 0.1062 - val_acc: 0.9580 - 82s/epoch - 822ms/step\n",
            "Epoch 42/50\n",
            "100/100 - 80s - loss: 0.1899 - acc: 0.9245 - val_loss: 0.1059 - val_acc: 0.9580 - 80s/epoch - 796ms/step\n",
            "Epoch 43/50\n",
            "100/100 - 83s - loss: 0.1936 - acc: 0.9255 - val_loss: 0.1057 - val_acc: 0.9580 - 83s/epoch - 829ms/step\n",
            "Epoch 44/50\n",
            "100/100 - 79s - loss: 0.1971 - acc: 0.9140 - val_loss: 0.1056 - val_acc: 0.9580 - 79s/epoch - 793ms/step\n",
            "Epoch 45/50\n",
            "100/100 - 81s - loss: 0.1949 - acc: 0.9195 - val_loss: 0.1056 - val_acc: 0.9570 - 81s/epoch - 805ms/step\n",
            "Epoch 46/50\n",
            "100/100 - 82s - loss: 0.1904 - acc: 0.9280 - val_loss: 0.1050 - val_acc: 0.9570 - 82s/epoch - 819ms/step\n",
            "Epoch 47/50\n",
            "100/100 - 81s - loss: 0.2014 - acc: 0.9185 - val_loss: 0.1047 - val_acc: 0.9580 - 81s/epoch - 809ms/step\n",
            "Epoch 48/50\n",
            "100/100 - 79s - loss: 0.1802 - acc: 0.9325 - val_loss: 0.1047 - val_acc: 0.9590 - 79s/epoch - 787ms/step\n",
            "Epoch 49/50\n",
            "100/100 - 79s - loss: 0.1870 - acc: 0.9220 - val_loss: 0.1043 - val_acc: 0.9580 - 79s/epoch - 788ms/step\n",
            "Epoch 50/50\n",
            "100/100 - 80s - loss: 0.1874 - acc: 0.9230 - val_loss: 0.1044 - val_acc: 0.9580 - 80s/epoch - 803ms/step\n"
          ]
        }
      ],
      "source": [
        "history = model.fit(\n",
        "      train_generator,\n",
        "      steps_per_epoch=100,\n",
        "      epochs=50,\n",
        "      validation_data=validation_generator,\n",
        "      validation_steps=50,\n",
        "      verbose=2)"
      ]
    },
    {
      "cell_type": "markdown",
      "metadata": {
        "id": "3EPGn58ofwq5"
      },
      "source": [
        "We are seeing a nice improvement, with the validation loss going from ~1.7 down to ~1.2, and accuracy going from 88% to 92%. That's a 4.5% relative improvement in accuracy.\n",
        "\n",
        "Let's plot the training and validation loss and accuracy to show it conclusively:"
      ]
    },
    {
      "cell_type": "code",
      "execution_count": 13,
      "metadata": {
        "colab": {
          "base_uri": "https://localhost:8080/",
          "height": 904
        },
        "id": "1FtxcKjJfxL9",
        "outputId": "f89c9eb9-79aa-43d8-855f-80dc4d5ccd92"
      },
      "outputs": [
        {
          "data": {
            "text/plain": [
              "Text(0.5, 1.0, 'Training and validation loss')"
            ]
          },
          "execution_count": 13,
          "metadata": {},
          "output_type": "execute_result"
        },
        {
          "data": {
            "image/png": "[encoded data removed]",
            "text/plain": [
              "<Figure size 640x480 with 1 Axes>"
            ]
          },
          "metadata": {},
          "output_type": "display_data"
        },
        {
          "data": {
            "image/png": "[encoded data removed]",
            "text/plain": [
              "<Figure size 640x480 with 1 Axes>"
            ]
          },
          "metadata": {},
          "output_type": "display_data"
        }
      ],
      "source": [
        "%matplotlib inline\n",
        "\n",
        "import matplotlib.pyplot as plt\n",
        "import matplotlib.image as mpimg\n",
        "\n",
        "# Retrieve a list of accuracy results on training and validation data\n",
        "# sets for each training epoch\n",
        "acc = history.history['acc']\n",
        "val_acc = history.history['val_acc']\n",
        "\n",
        "# Retrieve a list of list results on training and validation data\n",
        "# sets for each training epoch\n",
        "loss = history.history['loss']\n",
        "val_loss = history.history['val_loss']\n",
        "\n",
        "# Get number of epochs\n",
        "epochs = range(len(acc))\n",
        "\n",
        "# Plot training and validation accuracy per epoch\n",
        "plt.plot(epochs, acc)\n",
        "plt.plot(epochs, val_acc)\n",
        "plt.title('Training and validation accuracy')\n",
        "\n",
        "plt.figure()\n",
        "\n",
        "# Plot training and validation loss per epoch\n",
        "plt.plot(epochs, loss)\n",
        "plt.plot(epochs, val_loss)\n",
        "plt.title('Training and validation loss')"
      ]
    },
    {
      "cell_type": "markdown",
      "metadata": {
        "id": "X-fUIeizakjE"
      },
      "source": [
        "Using feature extraction and fine-tuning, you've built an image classification model that can identify cats vs. dogs in images with over 90% accuracy."
      ]
    }
  ],
  "metadata": {
    "accelerator": "GPU",
    "colab": {
      "collapsed_sections": [
        "jTEzoMx6CasV"
      ],
      "provenance": []
    },
    "kernelspec": {
      "display_name": "Python 3",
      "name": "python3"
    },
    "language_info": {
      "codemirror_mode": {
        "name": "ipython",
        "version": 3
      },
      "file_extension": ".py",
      "mimetype": "text/x-python",
      "name": "python",
      "nbconvert_exporter": "python",
      "pygments_lexer": "ipython3",
      "version": "3.8.0"
    }
  },
  "nbformat": 4,
  "nbformat_minor": 0
}
